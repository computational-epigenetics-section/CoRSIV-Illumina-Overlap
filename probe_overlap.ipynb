{
 "cells": [
  {
   "cell_type": "code",
   "execution_count": null,
   "metadata": {},
   "outputs": [],
   "source": [
    "import pandas as pd\n",
    "from pybedtools import BedTool\n",
    "import os\n",
    "from functools import reduce\n",
    "# constant, data\n",
    "os.chdir(\"/Users/antata/Library/CloudStorage/OneDrive-BaylorCollegeofMedicine/text-mining/humanData/database/\")"
   ]
  },
  {
   "cell_type": "code",
   "execution_count": 45,
   "metadata": {},
   "outputs": [],
   "source": [
    "# preprocess MSA file\n",
    "df = pd.read_csv(\"MSA.hg38.manifest.tsv\", sep=\"\\t\")\n",
    "df = df[[\"CpG_chrm\", \"CpG_beg\", \"CpG_end\", \"Probe_ID\"]]\n",
    "df.dropna(inplace=True)\n",
    "df[\"CpG_beg\"] = df[\"CpG_beg\"].astype(int)\n",
    "df[\"CpG_end\"] = df[\"CpG_end\"].astype(int)\n",
    "df = df[~df[\"CpG_chrm\"].isin([\"chrY\", \"chrX\", \"chrM\"])]\n",
    "df.to_csv(\"MSA.hg38.txt\", index=0, sep=\"\\t\", header=0)"
   ]
  },
  {
   "cell_type": "code",
   "execution_count": 224,
   "metadata": {},
   "outputs": [],
   "source": [
    "# get ess/siv bed\n",
    "import numpy as np\n",
    "ess = pd.read_excel(\"ESS-2017.xlsx\", sheet_name=\"Table S9\")\n",
    "ess[\"id\"] = ess.apply(lambda x: f\"SIV_{x['Chromosome']}_{x['Start']}_{x['Stop']}_{x['Genes']}\" if str(x['Genes'])!=\"nan\" else f\"SIV_{x['Chromosome']}_{x['Start']}_{x['Stop']}_\", axis=1)\n",
    "ess[\"Start\"] -= 1\n",
    "ess = ess[[\"Chromosome\", \"Start\", \"Stop\", \"id\"]]\n",
    "ess\n",
    "ess.to_csv(\"SIV.hg19.bed\", sep=\"\\t\", header=0, index=0)"
   ]
  },
  {
   "cell_type": "code",
   "execution_count": 227,
   "metadata": {},
   "outputs": [],
   "source": [
    "# get me bed\n",
    "df = pd.read_csv(\"ME_qc.hg38.bed\", sep=\"\\t\", names = [\"chr\", \"start\", \"end\", \"id\", \"_\", \"__\"])\n",
    "df['coord'] = df['id'].apply(lambda x: x.split('_')[-1])\n",
    "df[['chr', 'coord']] = df['coord'].str.split(\":\", expand=True)\n",
    "df[['start', 'end']] = df['coord'].str.split(\"-\", expand=True)\n",
    "df[\"start\"] = df[\"start\"].astype(int)\n",
    "df[\"end\"] = df[\"end\"].astype(int)\n",
    "# df[\"id\"] = df.apply(lambda x: f\"ME_GB2015_{x['UCSC browser coordinates']}\", axis=1)\n",
    "df[\"start\"] -= 1\n",
    "df = df[[\"chr\", \"start\", \"end\", \"id\"]]\n",
    "df.to_csv(\"ME.hg19.bed\", sep=\"\\t\", header=0, index=0)"
   ]
  },
  {
   "cell_type": "code",
   "execution_count": 235,
   "metadata": {},
   "outputs": [
    {
     "name": "stdout",
     "output_type": "stream",
     "text": [
      "True\n",
      "    chr_x   start_x     end_x                                id chr_y   start_y     end_y  num strand _merge\n",
      "281  chr6  26758479  26758679  ME_GB2015_chr6:26743201-26743400  chr6  26758479  26758678    6      -   both\n",
      "    chr_x   start_x     end_x                                id chr_y   start_y     end_y  num strand _merge\n",
      "281  chr6  26758479  26758679  ME_GB2015_chr6:26743201-26743400  chr6  26758479  26758678    6      -   both\n",
      "Empty DataFrame\n",
      "Columns: [chr_x, start_x, end_x, id, chr_y, start_y, end_y, num, strand, _merge]\n",
      "Index: []\n"
     ]
    }
   ],
   "source": [
    "# qc on ess, me, siv with chathura's results\n",
    "siv_type =\"ME\"\n",
    "df = pd.read_csv(f\"{siv_type}.hg38.bed\", sep=\"\\t\", names = [\"chr\", \"start\", \"end\", \"id\"])\n",
    "qc = pd.read_csv(f\"{siv_type}_qc.hg38.bed\", sep=\"\\t\", names = [\"chr\", \"start\", \"end\", \"id\", \"num\", \"strand\"])\n",
    "res = pd.merge(df, qc, on=\"id\", how=\"outer\", indicator=True)\n",
    "print((res.shape[0] == df.shape[0]) and (res.shape[0] == qc.shape[0]) )\n",
    "print(res[res['start_x']+1 != res['start_y']].to_string())\n",
    "print(res[res['end_x'] != res['end_y']].to_string())\n",
    "print(res[res['chr_x'] != res['chr_y']].to_string())"
   ]
  },
  {
   "cell_type": "code",
   "execution_count": 268,
   "metadata": {},
   "outputs": [
    {
     "name": "stdout",
     "output_type": "stream",
     "text": [
      "Empty DataFrame\n",
      "Columns: [chr, start, end, count]\n",
      "Index: []\n"
     ]
    }
   ],
   "source": [
    "epic = pd.read_csv(\"EPIC.hg38.txt\", sep=\"\\t\", names=[\"chr\", \"start\", \"end\", \"id\"]) \n",
    "hm450 = pd.read_csv(\"HM450.hg38.txt\", sep=\"\\t\", names=[\"chr\", \"start\", \"end\", \"id\"])\n",
    "msa = pd.read_csv(\"MSA.hg38.txt\", sep=\"\\t\", names=[\"chr\", \"start\", \"end\", \"id\"])\n",
    "# build union of all\n",
    "probe_df = [hm450, epic, msa]\n",
    "for d in probe_df:\n",
    "    d.drop_duplicates(subset=[\"chr\", \"start\", \"end\"], inplace=True)\n",
    "probe = reduce(lambda  left,right: pd.merge(left,right,on=['chr', 'start', 'end'], how='outer'), probe_df)\n",
    "probe.sort_values(by=[\"chr\", \"start\"], inplace=True)\n",
    "temp = BedTool.from_dataframe(probe[[\"chr\", \"start\", \"end\"]])\n",
    "temp = temp.merge(d=-1)\n",
    "temp = temp.intersect(temp, wa=True, c=True)\n",
    "res = temp.to_dataframe(names=[\"chr\", \"start\", \"end\",\"count\"])\n",
    "res[[\"chr\", \"start\", \"end\"]].to_csv(\"epic_hm450_msa_union.txt\", sep=\"\\t\", header=0, index=0)\n",
    "# union of hm450 and epic\n",
    "hm450_epic = pd.merge(hm450,epic,on=['chr', 'start', 'end'], how='outer')\n",
    "hm450_epic.sort_values(by=[\"chr\", \"start\"], inplace=True)\n",
    "temp = BedTool.from_dataframe(hm450_epic[[\"chr\", \"start\", \"end\"]])\n",
    "temp = temp.merge(d=-1)\n",
    "temp = temp.intersect(temp, wa=True, c=True)\n",
    "res = temp.to_dataframe(names=[\"chr\", \"start\", \"end\",\"count\"])\n",
    "res[[\"chr\", \"start\", \"end\"]].to_csv(\"epic_hm450.txt\", sep=\"\\t\", header=0, index=0)\n",
    "# df1 = res[res[\"count\"]>1]"
   ]
  },
  {
   "cell_type": "code",
   "execution_count": 302,
   "metadata": {},
   "outputs": [],
   "source": [
    "corsiv = pd.read_csv(\"../corsiv2019.txt\", sep=\"\\t\", names=[\"chr\", \"start\", \"end\", \"id\"])\n",
    "siv = pd.read_csv(\"SIV.hg38.bed\", sep=\"\\t\", names=[\"chr\", \"start\", \"end\", \"id\"])\n",
    "ess = pd.read_csv(\"ESS.hg38.bed\", sep=\"\\t\", names=[\"chr\", \"start\", \"end\", \"id\"])\n",
    "me = pd.read_csv(\"ME.hg38.bed\", sep=\"\\t\", names=[\"chr\", \"start\", \"end\", \"id\"])\n",
    "# merge all regions\n",
    "regions = [corsiv, siv, ess, me]\n",
    "df = pd.concat(regions, axis=0).reset_index(drop=True)\n",
    "df.sort_values(by=[\"chr\", \"start\"], inplace=True)\n",
    "temp = BedTool.from_dataframe(df[[\"chr\", \"start\", \"end\"]])\n",
    "temp = temp.merge(d=-1)\n",
    "res = temp.to_dataframe(names=[\"chr\", \"start\", \"end\"])\n",
    "res.to_csv(\"all_regions.bed\", sep=\"\\t\", header=0, index=0)\n",
    "# merge all siv\n",
    "regions = [siv, me]\n",
    "df = pd.concat(regions, axis=0).reset_index(drop=True)\n",
    "df.sort_values(by=[\"chr\", \"start\"], inplace=True)\n",
    "temp = BedTool.from_dataframe(df[[\"chr\", \"start\", \"end\"]])\n",
    "temp = temp.merge(d=-1)\n",
    "res = temp.to_dataframe(names=[\"chr\", \"start\", \"end\"])\n",
    "res.to_csv(\"siv_all.bed\", sep=\"\\t\", header=0, index=0)"
   ]
  },
  {
   "cell_type": "code",
   "execution_count": 315,
   "metadata": {},
   "outputs": [],
   "source": [
    "epic = pd.read_csv(\"EPIC.hg38.txt\", sep=\"\\t\", names=[\"chr\", \"start\", \"end\", \"id\"]) \n",
    "hm450 = pd.read_csv(\"HM450.hg38.txt\", sep=\"\\t\", names=[\"chr\", \"start\", \"end\", \"id\"])\n",
    "msa = pd.read_csv(\"MSA.hg38.txt\", sep=\"\\t\", names=[\"chr\", \"start\", \"end\", \"id\"])\n",
    "all_probes = pd.read_csv(\"epic_hm450_msa_union.txt\", sep=\"\\t\", names=[\"chr\", \"start\", \"end\"]) # union of three\n",
    "epic_hm450 = pd.read_csv(\"epic_hm450.txt\", sep=\"\\t\", names=[\"chr\", \"start\", \"end\"]) # union of three\n",
    "\n",
    "corsiv = pd.read_csv(\"../corsiv2019_0based.txt\", sep=\"\\t\", names=[\"chr\", \"start\", \"end\", \"id\"])\n",
    "siv = pd.read_csv(\"siv_all.bed\", sep=\"\\t\", names=[\"chr\", \"start\", \"end\", \"id\"])\n",
    "ess = pd.read_csv(\"ESS.hg38.bed\", sep=\"\\t\", names=[\"chr\", \"start\", \"end\", \"id\"])\n",
    "union_region = pd.read_csv(\"all_regions.bed\", sep=\"\\t\", names=[\"chr\", \"start\", \"end\", \"id\"])"
   ]
  },
  {
   "cell_type": "code",
   "execution_count": 367,
   "metadata": {},
   "outputs": [
    {
     "name": "stdout",
     "output_type": "stream",
     "text": [
      "            corsiv  ess  siv  union\n",
      "hm450         1701  660  698   2546\n",
      "epic          2397  645  699   3221\n",
      "msa           3291  551  503   3774\n",
      "epic-hm450    2512  696  760   3412\n",
      "Union         4162  794  844   5121\n",
      "            corsiv  ess  siv  union\n",
      "hm450          837  198  224   1102\n",
      "epic          1306  198  230   1574\n",
      "msa           1428  167  178   1615\n",
      "epic-hm450    1335  198  234   1607\n",
      "Union         1861  198  244   2133\n"
     ]
    }
   ],
   "source": [
    "def get_overlap(probe_df, region_df):\n",
    "    probe_df = probe_df.drop_duplicates(subset=[\"chr\", \"start\", \"end\"])[[\"chr\", \"start\", \"end\"]]\n",
    "    probe_bed = BedTool.from_dataframe(probe_df)\n",
    "    region_bed = BedTool.from_dataframe(region_df)\n",
    "    res_bed = region_bed.intersect(probe_bed, wa=True, c=True)\n",
    "    res = res_bed.to_dataframe(names=[\"chr\", \"start\", \"end\", \"id\", \"num\"])\n",
    "    return res[\"num\"].sum(), res[res[\"num\"]>0].shape[0]  #number of probes, number of regions covered\n",
    "\n",
    "probe_df = [[],[],[],[],[]]\n",
    "region_df= [[],[],[],[],[]]\n",
    "plabel =[ \"hm450\", \"epic\", \"msa\", \"epic-hm450\", \"Union\"]\n",
    "rlabel = [\"corsiv\", \"ess\", \"siv\", \"union\"]\n",
    "for i, r in enumerate([corsiv, ess, siv, union_region]):\n",
    "    for j, p in enumerate([hm450, epic, msa, epic_hm450, all_probes]):\n",
    "        pcount, rcount = get_overlap(p, r)\n",
    "        probe_df[j].append(pcount)\n",
    "        region_df[j].append(rcount)\n",
    "probe_df = pd.DataFrame(probe_df, index=plabel, columns=rlabel)\n",
    "region_df = pd.DataFrame(region_df, index=plabel, columns=rlabel)\n",
    "\n",
    "print(probe_df)\n",
    "print(region_df)"
   ]
  }
 ],
 "metadata": {
  "kernelspec": {
   "display_name": "base",
   "language": "python",
   "name": "python3"
  },
  "language_info": {
   "codemirror_mode": {
    "name": "ipython",
    "version": 3
   },
   "file_extension": ".py",
   "mimetype": "text/x-python",
   "name": "python",
   "nbconvert_exporter": "python",
   "pygments_lexer": "ipython3",
   "version": "3.11.5"
  }
 },
 "nbformat": 4,
 "nbformat_minor": 2
}
